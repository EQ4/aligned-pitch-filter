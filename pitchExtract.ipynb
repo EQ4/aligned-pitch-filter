{
 "cells": [
  {
   "cell_type": "code",
   "execution_count": 4,
   "metadata": {
    "collapsed": false
   },
   "outputs": [],
   "source": [
    "from compmusic.extractors.makam import pitch as pitchextract\n",
    "import os\n",
    "import numpy\n"
   ]
  },
  {
   "cell_type": "code",
   "execution_count": 5,
   "metadata": {
    "collapsed": false
   },
   "outputs": [],
   "source": [
    "examplefolder = 'ussak--sazsemaisi--aksaksemai----dede_salih_efendi'\n",
    "audiofile = os.path.join(examplefolder, 'temp/e72db0ad-2ed9-467b-88ae-1f91edcd2c59.mp3')\n",
    "savefile = os.path.join(examplefolder, 'pitch.json')\n"
   ]
  },
  {
   "cell_type": "code",
   "execution_count": 6,
   "metadata": {
    "collapsed": false
   },
   "outputs": [],
   "source": [
    "# extract pitch by predominant melody estimation in pycompmusic\n",
    "extractor = pitchextract.PitchExtractMakam()\n",
    "pitch = extractor.run('', audiofile)\n",
    "\n",
    "# save matlab file\n",
    "with open(savefile, 'w') as f:\n",
    "    f.write(pitch['pitch'])\n",
    "\n",
    "# save matlab file\n",
    "with open(os.path.join(examplefolder, 'predominantMelody.mat'), 'w') as f:\n",
    "    f.write(pitch['matlab'])"
   ]
  },
  {
   "cell_type": "code",
   "execution_count": null,
   "metadata": {
    "collapsed": false
   },
   "outputs": [],
   "source": []
  }
 ],
 "metadata": {
  "kernelspec": {
   "display_name": "Python 2",
   "language": "python",
   "name": "python2"
  },
  "language_info": {
   "codemirror_mode": {
    "name": "ipython",
    "version": 2
   },
   "file_extension": ".py",
   "mimetype": "text/x-python",
   "name": "python",
   "nbconvert_exporter": "python",
   "pygments_lexer": "ipython2",
   "version": "2.7.10"
  }
 },
 "nbformat": 4,
 "nbformat_minor": 0
}
